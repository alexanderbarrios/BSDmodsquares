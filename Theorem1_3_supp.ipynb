{
 "cells": [
  {
   "cell_type": "code",
   "execution_count": 3,
   "id": "f88b6d",
   "metadata": {
    "collapsed": false
   },
   "outputs": [
   ],
   "source": [
    "def v2(a): ## 2-adic valuation of a rational number a\n",
    "    return a.valuation(2)\n",
    "def checkA1(X):\n",
    "    x1,x2,x3,x4,x6,y = X\n",
    "    return v2(x1)==0 and v2(x6)==0 and v2(y)==0 and v2(x3)>=2 and v2(x4)>=1\n",
    "def checkA2(X):\n",
    "    x1,x2,x3,x4,x6,y = X\n",
    "    return v2(x1)==0 and v2(x4)==0 and v2(y)==0 and v2(x3)>=2 and v2(x6)>=1"
   ]
  },
  {
   "cell_type": "markdown",
   "id": "4c4f7d",
   "metadata": {
    "collapsed": false
   },
   "source": [
    "From the proof of Theorem 1.3, we have that\n",
    "$$\\mathcal{A}_{1}  =\\left\\{  \\left(  x_{1},x_{2},x_{3},x_{4},x_{6},y\\right) \\in\\mathbb{Z}^{5}\\mid v_{2}(x_{1})=v_{2}(x_{6})=v_{2}(y)=0,v_{2}(x_{3})\\geq2,v_{2}(x_{4})\\geq1\\right\\},$$\n",
    "\n",
    "$$\\mathcal{A}_{2}  =\\left\\{  \\left(  x_{1},x_{2},x_{3},x_{4},x_{6},y\\right) \\in\\mathbb{Z}^{5}\\mid v_{2}(x_{1})=v_{2}(x_{4})=v_{2}(y)=0,v_{2}(x_{3})\\geq2,v_{2}(x_{6})\\geq1\\right\\},$$\n",
    "\n",
    "and $\\mathcal{A}=\\mathcal{A}_{1}\\cup\\mathcal{A}_{2}$. Next, we consider the natural projection $\\pi:\\mathcal{A}\\rightarrow\\left(  \\mathbb{Z}/32\\mathbb{Z}\\right)  ^{5}$.\n",
    "\n",
    "In particular,\n",
    "\n",
    "$$\\pi(\\mathcal{A}_{1})  =\\left\\{  \\left(  x_{1},x_{2},x_{3},x_{4},x_{6},y\\right) \\in\\left(\\mathbb{Z}/32\\mathbb{Z}\\right)^{5}\\mid v_{2}(x_{1})=v_{2}(x_{6})=v_{2}(y)=0,v_{2}(x_{3})\\geq2,v_{2}(x_{4})\\geq1\\right\\},$$\n",
    "\n",
    "$$\\pi(\\mathcal{A}_{2})  =\\left\\{  \\left(  x_{1},x_{2},x_{3},x_{4},x_{6},y\\right) \\in\\left(\\mathbb{Z}/32\\mathbb{Z}\\right)^{5}\\mid v_{2}(x_{1})=v_{2}(x_{4})=v_{2}(y)=0,v_{2}(x_{3})\\geq2,v_{2}(x_{6})\\geq1\\right\\}.$$\n",
    "\n",
    "Below, we construct the sets $\\pi(\\mathcal{A}_{i})$  for $i=1,2$ and denote them by pAi in the code below.\n",
    "\n",
    "We also note that $\\pi(\\mathcal{A})=\\pi(\\mathcal{A}_{1})\\cup\\pi(\\mathcal{A}_{2})$. In the code below, we denote $\\pi(\\mathcal{A})$ by pA.\n",
    "\n",
    "We also define the function checkA1 which takes input $X \\in \\pi(\\mathcal{A})$, and returns True if and only if $X \\in \\pi(\\mathcal{A}_1)$. We similarly define checkA2 in the same manner, where it outputs True if and only if  $X \\in \\pi(\\mathcal{A}_2)$.\n"
   ]
  },
  {
   "cell_type": "code",
   "execution_count": 4,
   "id": "dc531c",
   "metadata": {
    "collapsed": false
   },
   "outputs": [
   ],
   "source": [
    "pA1 = []\n",
    "for a1 in (0..32):\n",
    "    if v2(a1)==0:\n",
    "        for a6 in (0..32):\n",
    "            if v2(a6)==0:\n",
    "                for m in (0..32):\n",
    "                    if v2(m)==0:\n",
    "                        for a3 in (0..32):\n",
    "                            if v2(a3)>=2:\n",
    "                                for a4 in (0..32):\n",
    "                                    if v2(a4)>=1:\n",
    "                                        for a2 in (0..32):\n",
    "                                            pA1.append((a1,a2,a3,a4,a6,m))\n",
    "pA2 = []\n",
    "for a1 in (0..32):\n",
    "    if v2(a1)==0:\n",
    "        for a4 in (0..32):\n",
    "            if v2(a4)==0:\n",
    "                for m in (0..32):\n",
    "                    if v2(m)==0:\n",
    "                        for a3 in (0..32):\n",
    "                            if v2(a3)>=2:\n",
    "                                for a6 in (0..32):\n",
    "                                    if v2(a6)>=1:\n",
    "                                        for a2 in (0..32):\n",
    "                                            pA2.append((a1,a2,a3,a4,a6,m))\n",
    "pA = Set(pA1).union(Set(pA2))\n",
    "def checkA1(X): ## For X in pA, returns true if and only if X in pA1 \n",
    "    x1,x2,x3,x4,x6,y = X\n",
    "    return v2(x1)==0 and v2(x6)==0 and v2(y)==0 and v2(x3)>=2 and v2(x4)>=1\n",
    "def checkA2(X): ## For X in pA, returns true if and only if X in pA2\n",
    "    x1,x2,x3,x4,x6,y = X\n",
    "    return v2(x1)==0 and v2(x4)==0 and v2(y)==0 and v2(x3)>=2 and v2(x6)>=1"
   ]
  },
  {
   "cell_type": "markdown",
   "id": "00e73f",
   "metadata": {
    "collapsed": false
   },
   "source": [
    " For $X=\\left(x_{1},x_{2},x_{3},x_{4},x_{6},y\\right)  \\in\\pi(\\mathcal{A})$, define $\\tau :\\pi(\\mathcal{A})\\rightarrow\\mathbb{Z}/32\\mathbb{Z}$ by\n",
    "$$\\tau\\left(  X\\right)  =\\begin{cases}\n",
    "4+16x_{2}+8x_{4}+4x_{6}-2y-2yx_{6}^{2}-4yx_{6}\\ \\operatorname{mod}32 & \\text{if }X\\in\\pi(\\mathcal{A}_{1}),\\\\\n",
    "x_{3}^{2}-2yx_{6}^{2}+4x_{6}\\ \\operatorname{mod}32 & \\text{if }X\\in \\pi(\\mathcal{A}_{2}).\n",
    "\\end{cases}$$\n",
    "\n",
    "As noted in the proof, $\\pi(\\mathcal{A}) \\in \\{0,16\\}$. This is verified in the code below as well. As in the paper, we set $\\mathcal{C}_{2}=\\tau^{-1}(16)$ and $\\mathcal{C}_{4}=\\tau^{-1}(0)$.\n"
   ]
  },
  {
   "cell_type": "code",
   "execution_count": 6,
   "id": "32d38d",
   "metadata": {
    "collapsed": false
   },
   "outputs": [
    {
     "name": "stdout",
     "output_type": "stream",
     "text": [
      "{16, 0}\n"
     ]
    }
   ],
   "source": [
    "def tau(X):\n",
    "    x1,x2,x3,x4,x6,y = X\n",
    "    if checkA1(X):\n",
    "        return mod(4+16*x2+8*x4+4*x6-2*y-2*y*x6^2-4*y*x6,32)\n",
    "    if checkA2(X):\n",
    "        return mod(x3^2 -2*y*x6^2 +4*x6,32)\n",
    "Z=[]\n",
    "for X in pA:\n",
    "    Z.append(tau(X))\n",
    "print(Set(Z))"
   ]
  },
  {
   "cell_type": "markdown",
   "id": "ba5957",
   "metadata": {
    "collapsed": false
   },
   "source": [
    " For $X=\\left(x_{1},x_{2},x_{3},x_{4},x_{6},y\\right)  \\in\\pi(\\mathcal{A})$, define $\\lambda:\\pi(\\mathcal{A})\\rightarrow\\mathbb{Z}/8\\mathbb{Z}$ and $\\mu:\\pi(\\mathcal{A})\\rightarrow\\mathbb{Z}/4\\mathbb{Z}$ by\n",
    " \n",
    " $$\\lambda\\left( X\\right)   = \\begin{cases}x_{4}^{2}+4x_{2}-x_{6}\\ \\operatorname{mod}8 & \\text{if }\\left(  x_{1},x_{2},x_{3},x_{4},x_{6},y\\right)  \\in\\pi(\\mathcal{A}_{1}),\\\\\n",
    "x_{3}-x_{6}+1\\ \\operatorname{mod}8 & \\text{if }\\left(  x_{1},x_{2},x_{3},x_{4},x_{6},y\\right)  \\in\\pi(\\mathcal{A}_{2}),\n",
    "\\end{cases}$$\n",
    " \n",
    " $$\\mu\\left( X \\right)   =y\\ \\operatorname{mod}4.$$\n",
    " \n",
    " Now set $\\mathcal{C}_{2}=\\tau^{-1}(16)$ and $\\mathcal{C}_{4}=\\tau^{-1}(0)$.\n",
    " \n",
    " We are now ready to verify the claim at the end of the proof of Theorem 1.3. Namely, that we have the following set equality:\n",
    "$$S_j = \\left\\{  \\left(  \\lambda(X),\\mu(X)\\right)  \\in\\mathbb{Z}/8\\mathbb{Z}\\times\\mathbb{Z}/4\\mathbb{Z}\\mid X\\in\\mathcal{C}_{j}\\right\\}  =\\begin{cases} \\left\\{  \\left(  3,1\\right)  ,\\left(  5,1\\right)  ,\\left(  5,3\\right),\\left(  7,3\\right)  \\right\\}   & \\text{if }j=2,\\\\\n",
    "\\left\\{  \\left(  1,1\\right)  ,\\left(  1,3\\right)  ,\\left(  3,3\\right),\\left(  7,1\\right)  \\right\\}   & \\text{if }j=4.\n",
    "\\end{cases}$$\n",
    "\n",
    "Below, we explicitly define $S_2$ and $S_4$, and show that they are as claimed."
   ]
  },
  {
   "cell_type": "code",
   "execution_count": 9,
   "id": "8504ec",
   "metadata": {
    "collapsed": false
   },
   "outputs": [
    {
     "name": "stdout",
     "output_type": "stream",
     "text": [
      "{(5, 3), (3, 1), (5, 1), (7, 3)}\n",
      "{(1, 3), (1, 1), (3, 3), (7, 1)}\n"
     ]
    }
   ],
   "source": [
    "def lamda(X):\n",
    "    x1,x2,x3,x4,x6,y = X\n",
    "    if checkA1(X):\n",
    "        return mod(x4^2+4*x2 -x6,8)\n",
    "    if checkA2(X):\n",
    "        return mod(x3-x6+1,8)\n",
    "def mu(X):\n",
    "    x1,x2,x3,x4,x6,y = X\n",
    "    return mod(y,4)\n",
    "S2,S4 =[],[]\n",
    "for X in pA:\n",
    "    if tau(X) == 16: ## i.e., X in C_2\n",
    "        S2.append((lamda(X),mu(X)))\n",
    "    if tau(X) == 0: ## i.e., X in C_4\n",
    "        S4.append((lamda(X),mu(X)))\n",
    "print(Set(S2))\n",
    "print(Set(S4))"
   ]
  },
  {
   "cell_type": "code",
   "execution_count": 0,
   "id": "28f505",
   "metadata": {
    "collapsed": false
   },
   "outputs": [
   ],
   "source": [
   ]
  }
 ],
 "metadata": {
  "kernelspec": {
   "argv": [
    "sage-10.6",
    "--python",
    "-m",
    "sage.repl.ipython_kernel",
    "--matplotlib=inline",
    "-f",
    "{connection_file}"
   ],
   "display_name": "SageMath 10.6",
   "env": {
   },
   "language": "sagemath",
   "metadata": {
    "cocalc": {
     "description": "Open-source mathematical software system",
     "priority": 10,
     "url": "https://www.sagemath.org/"
    }
   },
   "name": "sage-10.6",
   "resource_dir": "/ext/jupyter/kernels/sage-10.6"
  }
 },
 "nbformat": 4,
 "nbformat_minor": 4
}